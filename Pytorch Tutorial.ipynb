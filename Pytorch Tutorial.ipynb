{
  "nbformat": 4,
  "nbformat_minor": 0,
  "metadata": {
    "colab": {
      "provenance": [],
      "gpuType": "T4"
    },
    "kernelspec": {
      "name": "python3",
      "display_name": "Python 3"
    },
    "language_info": {
      "name": "python"
    },
    "accelerator": "GPU"
  },
  "cells": [
    {
      "cell_type": "code",
      "execution_count": 1,
      "metadata": {
        "id": "FdpG_6Sgu7ID"
      },
      "outputs": [],
      "source": [
        "import numpy as np\n",
        "import random\n",
        "np.random.seed(42)\n",
        "x = np.random.rand(100,1) # rand gives uniform distribution while randn gives normal distribution\n",
        "y = 1 + 2*x + .1 * np.random.randn(100,1)  # a= 1, b= 2, and added noise"
      ]
    },
    {
      "cell_type": "code",
      "source": [
        "# Shuffling the index\n",
        "idx = np.arange(100)\n",
        "np.random.shuffle(idx)\n",
        "\n",
        "# split index into 80,20\n",
        "train_idx = idx[:80]\n",
        "val_idx = idx[80:]\n",
        "\n",
        "# generate train and test sets\n",
        "x_train, y_train = x[train_idx], y[train_idx]\n",
        "x_val, y_val = x[val_idx], y[val_idx]\n",
        "\n"
      ],
      "metadata": {
        "id": "VhIGrOm0ves4"
      },
      "execution_count": 2,
      "outputs": []
    },
    {
      "cell_type": "code",
      "source": [
        "import matplotlib.pyplot as plt\n",
        "plt.scatter(x_train, y_train)\n",
        "plt.scatter(x_val, y_val)"
      ],
      "metadata": {
        "colab": {
          "base_uri": "https://localhost:8080/",
          "height": 447
        },
        "id": "c9j1hOVIvgEn",
        "outputId": "ae07c9cb-8082-4834-ed9d-b86527aa2b90"
      },
      "execution_count": 3,
      "outputs": [
        {
          "output_type": "execute_result",
          "data": {
            "text/plain": [
              "<matplotlib.collections.PathCollection at 0x7969c4249780>"
            ]
          },
          "metadata": {},
          "execution_count": 3
        },
        {
          "output_type": "display_data",
          "data": {
            "text/plain": [
              "<Figure size 640x480 with 1 Axes>"
            ],
            "image/png": "[encoded data removed]"
          },
          "metadata": {}
        }
      ]
    },
    {
      "cell_type": "code",
      "source": [
        "# First we are performing simple regression using NumPy and then only through Pytorch(then only we'll know how much our life gets easier through Pytorch)\n",
        "np.random.seed(42)\n",
        "a = np.random.rand(1)\n",
        "b = np.random.rand(1)\n",
        "\n",
        "print(a,b)\n",
        "\n",
        "lr = 1e-1 # learning rate\n",
        "n_epochs = 1000 # no of epochs\n",
        "\n",
        "for epoch in range(n_epochs):\n",
        "  # calculate y and error\n",
        "  y_hat = a + b * x_train  # y = a+bx\n",
        "  error = y_train - y_hat\n",
        "\n",
        "  # calculate MSE because it is a regression problem\n",
        "  loss = (error ** 2).mean()\n",
        "\n",
        "  # get gradient\n",
        "  a_grad = -2 * error.mean() # we derive that a' = -2 * (y - y_hat)\n",
        "  b_grad = -2 * (x_train * error).mean()    # b' = -2 * (x *(y-y_hat))\n",
        "\n",
        "  # update the parameters\n",
        "  a = a - lr * a_grad\n",
        "  b = b - lr * b_grad\n",
        "\n",
        "print('\\nFrom gradients')\n",
        "print(a,b)\n",
        "\n",
        "\n",
        "# Just to check\n",
        "\n",
        "from sklearn.linear_model import LinearRegression\n",
        "lnr = LinearRegression()\n",
        "lnr.fit(x_train, y_train)\n",
        "print('\\nFrom Scikit-learn')\n",
        "print(lnr.intercept_, lnr.coef_[0])\n"
      ],
      "metadata": {
        "colab": {
          "base_uri": "https://localhost:8080/"
        },
        "id": "qZm59JgOvsDF",
        "outputId": "48e12608-2653-4aaa-a229-9c27b8a6dd1f"
      },
      "execution_count": 4,
      "outputs": [
        {
          "output_type": "stream",
          "name": "stdout",
          "text": [
            "[0.37454012] [0.95071431]\n",
            "\n",
            "From gradients\n",
            "[1.02354082] [1.96896434]\n",
            "\n",
            "From Scikit-learn\n",
            "[1.02354075] [1.96896447]\n"
          ]
        }
      ]
    },
    {
      "cell_type": "code",
      "source": [
        "pip install torchviz"
      ],
      "metadata": {
        "colab": {
          "base_uri": "https://localhost:8080/"
        },
        "id": "UtpBRXcd3cQD",
        "outputId": "002e054d-a6f4-4efe-dbb2-591fa6626fa1"
      },
      "execution_count": 5,
      "outputs": [
        {
          "output_type": "stream",
          "name": "stdout",
          "text": [
            "Collecting torchviz\n",
            "  Downloading torchviz-0.0.2.tar.gz (4.9 kB)\n",
            "  Preparing metadata (setup.py) ... \u001b[?25l\u001b[?25hdone\n",
            "Requirement already satisfied: torch in /usr/local/lib/python3.10/dist-packages (from torchviz) (2.0.1+cu118)\n",
            "Requirement already satisfied: graphviz in /usr/local/lib/python3.10/dist-packages (from torchviz) (0.20.1)\n",
            "Requirement already satisfied: filelock in /usr/local/lib/python3.10/dist-packages (from torch->torchviz) (3.12.3)\n",
            "Requirement already satisfied: typing-extensions in /usr/local/lib/python3.10/dist-packages (from torch->torchviz) (4.7.1)\n",
            "Requirement already satisfied: sympy in /usr/local/lib/python3.10/dist-packages (from torch->torchviz) (1.12)\n",
            "Requirement already satisfied: networkx in /usr/local/lib/python3.10/dist-packages (from torch->torchviz) (3.1)\n",
            "Requirement already satisfied: jinja2 in /usr/local/lib/python3.10/dist-packages (from torch->torchviz) (3.1.2)\n",
            "Requirement already satisfied: triton==2.0.0 in /usr/local/lib/python3.10/dist-packages (from torch->torchviz) (2.0.0)\n",
            "Requirement already satisfied: cmake in /usr/local/lib/python3.10/dist-packages (from triton==2.0.0->torch->torchviz) (3.27.2)\n",
            "Requirement already satisfied: lit in /usr/local/lib/python3.10/dist-packages (from triton==2.0.0->torch->torchviz) (16.0.6)\n",
            "Requirement already satisfied: MarkupSafe>=2.0 in /usr/local/lib/python3.10/dist-packages (from jinja2->torch->torchviz) (2.1.3)\n",
            "Requirement already satisfied: mpmath>=0.19 in /usr/local/lib/python3.10/dist-packages (from sympy->torch->torchviz) (1.3.0)\n",
            "Building wheels for collected packages: torchviz\n",
            "  Building wheel for torchviz (setup.py) ... \u001b[?25l\u001b[?25hdone\n",
            "  Created wheel for torchviz: filename=torchviz-0.0.2-py3-none-any.whl size=4130 sha256=d163b065b64d71e79e1d0fe577cf9253410706d4160b392de7e491b6c89ca4e4\n",
            "  Stored in directory: /root/.cache/pip/wheels/4c/97/88/a02973217949e0db0c9f4346d154085f4725f99c4f15a87094\n",
            "Successfully built torchviz\n",
            "Installing collected packages: torchviz\n",
            "Successfully installed torchviz-0.0.2\n"
          ]
        }
      ]
    },
    {
      "cell_type": "code",
      "source": [
        "# A tensor has three dimension. However, nowadays to keep simple, everything including vector and matrix is tensor. So either it's scaler or tensor\n",
        "\n",
        "import torch\n",
        "import torch.optim as optim\n",
        "import torch.nn as nn\n",
        "from torchviz import make_dot\n",
        "device = 'cuda' if torch.cuda.is_available() else 'cpu'\n",
        "\n",
        "# our dataset is in numpy, so we need to convert into pytoch tensor\n",
        "x_train_tensor = torch.from_numpy(x_train).float().to(device)\n",
        "y_train_tensor = torch.from_numpy(y_train).float().to(device)\n",
        "\n",
        "# Here we can see the difference - notice that .type() is more useful\n",
        "# since it also tells us WHERE the tensor is (device)\n",
        "print(type(x_train), type(x_train_tensor), x_train_tensor.type())\n",
        "\n",
        "# numpy cannot handle gpu tensors, so before converting tensor to numpy, you need to make then CPU tensors"
      ],
      "metadata": {
        "colab": {
          "base_uri": "https://localhost:8080/"
        },
        "id": "cBb9zF3ey5Jj",
        "outputId": "ec0b7f6f-ddaa-4870-f0b1-31f706b429ef"
      },
      "execution_count": 6,
      "outputs": [
        {
          "output_type": "stream",
          "name": "stdout",
          "text": [
            "<class 'numpy.ndarray'> <class 'torch.Tensor'> torch.cuda.FloatTensor\n"
          ]
        }
      ]
    },
    {
      "cell_type": "code",
      "source": [
        "# if we need gradients of our parameters, we can just do requires_grad = True\n",
        "a = torch.randn(1, requires_grad = True, dtype = torch.float)\n",
        "b = torch.randn(1, requires_grad = True, dtype = torch.float)\n",
        "print(a,b)\n",
        "\n",
        "# to run in gpu\n",
        "a = torch.randn(1, requires_grad=True, dtype=torch.float)\n",
        "b = torch.randn(1, requires_grad=True, dtype=torch.float)\n",
        "print(a,b)\n",
        "# Sorry, but NO! The to(device) \"shadows\" the gradient...\n",
        "\n",
        "# we can create regular tensors and send them to the device\n",
        "a = torch.randn(1, dtype=torch.float).to(device)\n",
        "b = torch.randn(1, dtype=torch.float).to(device)\n",
        "# and THEN set them as requiring gradients...\n",
        "a.requires_grad_()\n",
        "b.requires_grad_()\n",
        "print(a, b)"
      ],
      "metadata": {
        "colab": {
          "base_uri": "https://localhost:8080/"
        },
        "id": "1aADiNbA26_K",
        "outputId": "8f610382-6f08-4401-938c-1715150aab5d"
      },
      "execution_count": 7,
      "outputs": [
        {
          "output_type": "stream",
          "name": "stdout",
          "text": [
            "tensor([-0.1619], requires_grad=True) tensor([-2.4069], requires_grad=True)\n",
            "tensor([-0.0177], requires_grad=True) tensor([-1.6194], requires_grad=True)\n",
            "tensor([1.4216], device='cuda:0', requires_grad=True) tensor([-0.4842], device='cuda:0', requires_grad=True)\n"
          ]
        }
      ]
    },
    {
      "cell_type": "code",
      "source": [
        "# it is much better to assign tensors to a device at the moment of their creation\n",
        "torch.manual_seed(42)\n",
        "a = torch.randn(1, requires_grad=True, dtype=torch.float, device=device)\n",
        "b = torch.randn(1, requires_grad=True, dtype=torch.float, device=device)\n",
        "print(a, b)"
      ],
      "metadata": {
        "colab": {
          "base_uri": "https://localhost:8080/"
        },
        "id": "u7aT7fyy38iI",
        "outputId": "6dd417f7-1ff1-4416-fe99-9a8802fcdfce"
      },
      "execution_count": 8,
      "outputs": [
        {
          "output_type": "stream",
          "name": "stdout",
          "text": [
            "tensor([0.1940], device='cuda:0', requires_grad=True) tensor([0.1391], device='cuda:0', requires_grad=True)\n"
          ]
        }
      ]
    },
    {
      "cell_type": "code",
      "source": [
        "# zeroing in the pytorch is done in order to zero out the previous gradient, such that the previous mini-batch gradient doesn't affect, in any way around, to the next gradient.\n",
        "lr = 1e-1\n",
        "n_epochs = 1000\n",
        "\n",
        "torch.manual_seed(42)\n",
        "\n",
        "a = torch.randn(1, requires_grad= True, dtype = torch.float, device = device)\n",
        "\n",
        "b = torch.randn(1, requires_grad= True, dtype = torch.float, device = device)\n",
        "\n",
        "\n",
        "for epoch in range(n_epochs):\n",
        "  yhat = a + b * x_train_tensor\n",
        "  error = y_train_tensor - yhat\n",
        "  loss = (error ** 2).mean()\n",
        "\n",
        "  # pytorch gradient\n",
        "  loss.backward()\n",
        "\n",
        "  #print('This is from previous calculations')\n",
        "  #print(a.grad)\n",
        "  #print(b.grad)\n",
        "\n",
        "  # if we don't use torch.no_grad, it builds dynamic computation graph and doesn't necessary performs the normal python operations\n",
        "  with torch.no_grad():\n",
        "    a -= lr * a.grad\n",
        "    b -= lr * b.grad\n",
        "\n",
        "\n",
        "  # pytorch is clingy to its computed gradients, we need to tell it ti let it go\n",
        "  a.grad.zero_()\n",
        "  b.grad.zero_()\n",
        "\n",
        "\n",
        "print(a,b)\n"
      ],
      "metadata": {
        "colab": {
          "base_uri": "https://localhost:8080/"
        },
        "id": "IYwgNhmpm0yT",
        "outputId": "8a9c8d11-4400-49e3-97bd-20a9ce7dbc3b"
      },
      "execution_count": 9,
      "outputs": [
        {
          "output_type": "stream",
          "name": "stdout",
          "text": [
            "tensor([1.0235], device='cuda:0', requires_grad=True) tensor([1.9690], device='cuda:0', requires_grad=True)\n"
          ]
        }
      ]
    },
    {
      "cell_type": "code",
      "source": [
        "torch.manual_seed(42)\n",
        "a = torch.randn(1, requires_grad=True, dtype=torch.float, device=device)\n",
        "b = torch.randn(1, requires_grad=True, dtype=torch.float, device=device)\n",
        "\n",
        "yhat = a + b * x_train_tensor\n",
        "error = y_train_tensor - yhat\n",
        "loss = (error ** 2).mean()\n",
        "make_dot(yhat)"
      ],
      "metadata": {
        "id": "6mS6AEcBm2B6",
        "colab": {
          "base_uri": "https://localhost:8080/",
          "height": 399
        },
        "outputId": "d4eaab29-d285-45c2-c38e-fe11a79b033b"
      },
      "execution_count": 10,
      "outputs": [
        {
          "output_type": "execute_result",
          "data": {
            "image/svg+xml": "<?xml version=\"1.0\" encoding=\"UTF-8\" standalone=\"no\"?>\n<!DOCTYPE svg PUBLIC \"-//W3C//DTD SVG 1.1//EN\"\n \"http://www.w3.org/Graphics/SVG/1.1/DTD/svg11.dtd\">\n<!-- Generated by graphviz version 2.43.0 (0)\n -->\n<!-- Title: %3 Pages: 1 -->\n<svg width=\"222pt\" height=\"283pt\"\n viewBox=\"0.00 0.00 222.00 283.00\" xmlns=\"http://www.w3.org/2000/svg\" xmlns:xlink=\"http://www.w3.org/1999/xlink\">\n<g id=\"graph0\" class=\"graph\" transform=\"scale(1 1) rotate(0) translate(4 279)\">\n<title>%3</title>\n<polygon fill=\"white\" stroke=\"transparent\" points=\"-4,4 -4,-279 218,-279 218,4 -4,4\"/>\n<!-- 133491468232208 -->\n<g id=\"node1\" class=\"node\">\n<title>133491468232208</title>\n<polygon fill=\"#caff70\" stroke=\"black\" points=\"139,-31 74,-31 74,0 139,0 139,-31\"/>\n<text text-anchor=\"middle\" x=\"106.5\" y=\"-7\" font-family=\"monospace\" font-size=\"10.00\"> (80, 1)</text>\n</g>\n<!-- 133491468298720 -->\n<g id=\"node2\" class=\"node\">\n<title>133491468298720</title>\n<polygon fill=\"lightgrey\" stroke=\"black\" points=\"151,-86 62,-86 62,-67 151,-67 151,-86\"/>\n<text text-anchor=\"middle\" x=\"106.5\" y=\"-74\" font-family=\"monospace\" font-size=\"10.00\">AddBackward0</text>\n</g>\n<!-- 133491468298720&#45;&gt;133491468232208 -->\n<g id=\"edge6\" class=\"edge\">\n<title>133491468298720&#45;&gt;133491468232208</title>\n<path fill=\"none\" stroke=\"black\" d=\"M106.5,-66.79C106.5,-60.07 106.5,-50.4 106.5,-41.34\"/>\n<polygon fill=\"black\" stroke=\"black\" points=\"110,-41.19 106.5,-31.19 103,-41.19 110,-41.19\"/>\n</g>\n<!-- 133491468296272 -->\n<g id=\"node3\" class=\"node\">\n<title>133491468296272</title>\n<polygon fill=\"lightgrey\" stroke=\"black\" points=\"101,-141 0,-141 0,-122 101,-122 101,-141\"/>\n<text text-anchor=\"middle\" x=\"50.5\" y=\"-129\" font-family=\"monospace\" font-size=\"10.00\">AccumulateGrad</text>\n</g>\n<!-- 133491468296272&#45;&gt;133491468298720 -->\n<g id=\"edge1\" class=\"edge\">\n<title>133491468296272&#45;&gt;133491468298720</title>\n<path fill=\"none\" stroke=\"black\" d=\"M59.5,-121.98C67.69,-114.23 80.01,-102.58 89.97,-93.14\"/>\n<polygon fill=\"black\" stroke=\"black\" points=\"92.48,-95.59 97.34,-86.17 87.67,-90.5 92.48,-95.59\"/>\n</g>\n<!-- 133494126982256 -->\n<g id=\"node4\" class=\"node\">\n<title>133494126982256</title>\n<polygon fill=\"lightblue\" stroke=\"black\" points=\"77.5,-208 23.5,-208 23.5,-177 77.5,-177 77.5,-208\"/>\n<text text-anchor=\"middle\" x=\"50.5\" y=\"-184\" font-family=\"monospace\" font-size=\"10.00\"> (1)</text>\n</g>\n<!-- 133494126982256&#45;&gt;133491468296272 -->\n<g id=\"edge2\" class=\"edge\">\n<title>133494126982256&#45;&gt;133491468296272</title>\n<path fill=\"none\" stroke=\"black\" d=\"M50.5,-176.92C50.5,-169.22 50.5,-159.69 50.5,-151.43\"/>\n<polygon fill=\"black\" stroke=\"black\" points=\"54,-151.25 50.5,-141.25 47,-151.25 54,-151.25\"/>\n</g>\n<!-- 133491468297616 -->\n<g id=\"node5\" class=\"node\">\n<title>133491468297616</title>\n<polygon fill=\"lightgrey\" stroke=\"black\" points=\"208,-141 119,-141 119,-122 208,-122 208,-141\"/>\n<text text-anchor=\"middle\" x=\"163.5\" y=\"-129\" font-family=\"monospace\" font-size=\"10.00\">MulBackward0</text>\n</g>\n<!-- 133491468297616&#45;&gt;133491468298720 -->\n<g id=\"edge3\" class=\"edge\">\n<title>133491468297616&#45;&gt;133491468298720</title>\n<path fill=\"none\" stroke=\"black\" d=\"M154.34,-121.98C146,-114.23 133.47,-102.58 123.32,-93.14\"/>\n<polygon fill=\"black\" stroke=\"black\" points=\"125.53,-90.42 115.82,-86.17 120.76,-95.54 125.53,-90.42\"/>\n</g>\n<!-- 133491468296224 -->\n<g id=\"node6\" class=\"node\">\n<title>133491468296224</title>\n<polygon fill=\"lightgrey\" stroke=\"black\" points=\"214,-202 113,-202 113,-183 214,-183 214,-202\"/>\n<text text-anchor=\"middle\" x=\"163.5\" y=\"-190\" font-family=\"monospace\" font-size=\"10.00\">AccumulateGrad</text>\n</g>\n<!-- 133491468296224&#45;&gt;133491468297616 -->\n<g id=\"edge4\" class=\"edge\">\n<title>133491468296224&#45;&gt;133491468297616</title>\n<path fill=\"none\" stroke=\"black\" d=\"M163.5,-182.79C163.5,-174.6 163.5,-162.06 163.5,-151.55\"/>\n<polygon fill=\"black\" stroke=\"black\" points=\"167,-151.24 163.5,-141.24 160,-151.24 167,-151.24\"/>\n</g>\n<!-- 133491468231568 -->\n<g id=\"node7\" class=\"node\">\n<title>133491468231568</title>\n<polygon fill=\"lightblue\" stroke=\"black\" points=\"190.5,-275 136.5,-275 136.5,-244 190.5,-244 190.5,-275\"/>\n<text text-anchor=\"middle\" x=\"163.5\" y=\"-251\" font-family=\"monospace\" font-size=\"10.00\"> (1)</text>\n</g>\n<!-- 133491468231568&#45;&gt;133491468296224 -->\n<g id=\"edge5\" class=\"edge\">\n<title>133491468231568&#45;&gt;133491468296224</title>\n<path fill=\"none\" stroke=\"black\" d=\"M163.5,-243.75C163.5,-234.39 163.5,-222.19 163.5,-212.16\"/>\n<polygon fill=\"black\" stroke=\"black\" points=\"167,-212.02 163.5,-202.02 160,-212.02 167,-212.02\"/>\n</g>\n</g>\n</svg>\n",
            "text/plain": [
              "<graphviz.graphs.Digraph at 0x7969c4137340>"
            ]
          },
          "metadata": {},
          "execution_count": 10
        }
      ]
    },
    {
      "cell_type": "code",
      "source": [
        "torch.manual_seed(42)\n",
        "a = torch.randn(1, requires_grad=True, dtype=torch.float, device=device)\n",
        "b = torch.randn(1, requires_grad=True, dtype=torch.float, device=device)\n",
        "print(a, b)\n",
        "\n",
        "lr = 1e-1\n",
        "n_epochs = 1000\n",
        "\n",
        "# Defines a MSE loss function\n",
        "loss_fn = nn.MSELoss(reduction='mean')\n",
        "\n",
        "optimizer = optim.SGD([a, b], lr=lr)\n",
        "\n",
        "for epoch in range(n_epochs):\n",
        "    yhat = a + b * x_train_tensor\n",
        "\n",
        "    # No more manual loss!\n",
        "    # error = y_tensor - yhat\n",
        "    # loss = (error ** 2).mean()\n",
        "    loss = loss_fn(y_train_tensor, yhat)\n",
        "\n",
        "    loss.backward()\n",
        "    optimizer.step()\n",
        "    optimizer.zero_grad()\n",
        "\n",
        "print(a, b)"
      ],
      "metadata": {
        "colab": {
          "base_uri": "https://localhost:8080/"
        },
        "id": "tTwRok2sk7b3",
        "outputId": "444e4a1a-1578-4336-9184-5a6109915df0"
      },
      "execution_count": 11,
      "outputs": [
        {
          "output_type": "stream",
          "name": "stdout",
          "text": [
            "tensor([0.1940], device='cuda:0', requires_grad=True) tensor([0.1391], device='cuda:0', requires_grad=True)\n",
            "tensor([1.0235], device='cuda:0', requires_grad=True) tensor([1.9690], device='cuda:0', requires_grad=True)\n"
          ]
        }
      ]
    },
    {
      "cell_type": "code",
      "source": [
        "torch.manual_seed(42)\n",
        "a = torch.randn(1, requires_grad = True, dtype = torch.float, device = device)\n",
        "b = torch.randn(1, requires_grad = True, dtype = torch.float, device = device)\n",
        "print('Before: a, b')\n",
        "print(a,b)\n",
        "lr = 1e-1\n",
        "n_epochs = 1000\n",
        "\n",
        "\n",
        "# pytorch makes actual loss function for us\n",
        "loss_fn = nn.MSELoss(reduction='mean')\n",
        "\n",
        "# define sgd optimizer\n",
        "optimizer = optim.SGD([a,b], lr = lr)\n",
        "\n",
        "for epoch in range(n_epochs):\n",
        "    yhat = a + b * x_train_tensor\n",
        "\n",
        "    # No more manual loss!\n",
        "    # error = y_tensor - yhat\n",
        "    # loss = (error ** 2).mean()\n",
        "    loss = loss_fn(y_train_tensor, yhat)\n",
        "\n",
        "    loss.backward() # no more individua gradient calculation required\n",
        "\n",
        "    optimizer.step() # no more manual update required\n",
        "    optimizer.zero_grad() # don't have to make zeros\n",
        "\n",
        "print(a, b)"
      ],
      "metadata": {
        "colab": {
          "base_uri": "https://localhost:8080/"
        },
        "id": "uVfMmkx_iUwm",
        "outputId": "c6d45f83-51d3-4d54-d09c-d0f145a93e55"
      },
      "execution_count": 12,
      "outputs": [
        {
          "output_type": "stream",
          "name": "stdout",
          "text": [
            "Before: a, b\n",
            "tensor([0.1940], device='cuda:0', requires_grad=True) tensor([0.1391], device='cuda:0', requires_grad=True)\n",
            "tensor([1.0235], device='cuda:0', requires_grad=True) tensor([1.9690], device='cuda:0', requires_grad=True)\n"
          ]
        }
      ]
    },
    {
      "cell_type": "code",
      "source": [
        "class ManualLinearRegression(nn.Module):\n",
        "  def __init__(self):\n",
        "    super().__init__()\n",
        "    # to make 'a' and 'b' real parameters of the model, we need to wrap them with nn.Paramaters\n",
        "\n",
        "    self.a = nn.Parameter(torch.randn(1, requires_grad = True, dtype = torch.float))\n",
        "    self.b = nn.Parameter(torch.randn(1, requires_grad = True, dtype = torch.float))\n",
        "\n",
        "  def forward(self, x):\n",
        "\n",
        "    #computes output\n",
        "    return self.a + self.b * x"
      ],
      "metadata": {
        "id": "EhW9o-9SiagV"
      },
      "execution_count": 13,
      "outputs": []
    },
    {
      "cell_type": "code",
      "source": [
        "torch.manual_seed(42)\n",
        "\n",
        "model = ManualLinearRegression().to(device) # our model should be at same device as our data (GPU or CPU)\n",
        "print(model.state_dict()) # it's parameters\n",
        "\n",
        "lr = 1e-1\n",
        "n_epochs = 1000\n",
        "\n",
        "# Defines a MSE loss function\n",
        "loss_fn = nn.MSELoss(reduction='mean')\n",
        "\n",
        "optimizer = optim.SGD([a, b], lr=lr)\n",
        "\n",
        "for epoch in range(n_epochs):\n",
        "    model.train()  # setting the model into training mode. Some models may use mechanisms like Dropout, for instance, which have distinct behaviors in training and evaluation phase\n",
        "\n",
        "    # no more manual prediction\n",
        "    #yhat = a + b * x_train_tensor\n",
        "    yhat = model(x_train_tensor)\n",
        "\n",
        "    # No more manual loss!\n",
        "    # error = y_tensor - yhat\n",
        "    # loss = (error ** 2).mean()\n",
        "    loss = loss_fn(y_train_tensor, yhat)\n",
        "\n",
        "    loss.backward()\n",
        "    optimizer.step()\n",
        "    optimizer.zero_grad()\n",
        "\n",
        "print(a, b)"
      ],
      "metadata": {
        "colab": {
          "base_uri": "https://localhost:8080/"
        },
        "id": "QU8djzTNqkv6",
        "outputId": "549c2fd0-c56d-4f0f-94ca-a2270c0a4b9b"
      },
      "execution_count": 14,
      "outputs": [
        {
          "output_type": "stream",
          "name": "stdout",
          "text": [
            "OrderedDict([('a', tensor([0.3367], device='cuda:0')), ('b', tensor([0.1288], device='cuda:0'))])\n",
            "tensor([1.0235], device='cuda:0', requires_grad=True) tensor([1.9690], device='cuda:0', requires_grad=True)\n"
          ]
        }
      ]
    },
    {
      "cell_type": "code",
      "source": [
        "class LayerLinearRegression(nn.Module):\n",
        "  def __init__(self):\n",
        "    super().__init__()\n",
        "\n",
        "    # we use a linear layer with single input and single output\n",
        "    self.linear = nn.Linear(1,1) # here (1,1) represents the size(no of neurons) of previous layer , size in output layer\n",
        "\n",
        "  def forward(self, x):\n",
        "    # calling to the layer to make a prediction\n",
        "    return self.linear(x)"
      ],
      "metadata": {
        "id": "5RL6fVaRrEFC"
      },
      "execution_count": 15,
      "outputs": []
    },
    {
      "cell_type": "code",
      "source": [
        "[*LayerLinearRegression().parameters()]"
      ],
      "metadata": {
        "colab": {
          "base_uri": "https://localhost:8080/"
        },
        "id": "Su5URkmfwElp",
        "outputId": "6aa229ba-5529-4e07-aa24-245f96d2bee4"
      },
      "execution_count": 16,
      "outputs": [
        {
          "output_type": "execute_result",
          "data": {
            "text/plain": [
              "[Parameter containing:\n",
              " tensor([[-0.2191]], requires_grad=True),\n",
              " Parameter containing:\n",
              " tensor([0.2018], requires_grad=True)]"
            ]
          },
          "metadata": {},
          "execution_count": 16
        }
      ]
    },
    {
      "cell_type": "code",
      "source": [
        "# Alternately we can build a model with calling a class\n",
        "model = nn.Sequential(nn.Linear(1,1)).to(device)"
      ],
      "metadata": {
        "id": "MlYlo74MwxaN"
      },
      "execution_count": 17,
      "outputs": []
    },
    {
      "cell_type": "code",
      "source": [
        "# generalizing things. if we make one function inside another, we can use this for any mode, lossfunction and optimizer\n",
        "def make_train_step(model, loss_fn, optimizer):\n",
        "  # function to perform a step in the train loop\n",
        "  def train_step(x, y):\n",
        "    model.train()\n",
        "\n",
        "    #prediction\n",
        "    yhat = model(x)\n",
        "\n",
        "    #loss\n",
        "    loss = loss_fn(y, yhat)\n",
        "\n",
        "    # gradient\n",
        "    loss.backward()\n",
        "\n",
        "    #update\n",
        "    optimizer.step()\n",
        "    optimizer.zero_grad()\n",
        "\n",
        "    #returns the loss\n",
        "    return loss.item()\n",
        "\n",
        "  return train_step # returns the function that will be called inside the train loop\n",
        "\n",
        "train_step = make_train_step(model, loss_fn, optimizer)\n",
        "losses = []\n",
        "\n",
        "for epoch in range(n_epochs):\n",
        "  loss = train_step(x_train_tensor, y_train_tensor)\n",
        "  losses.append(loss)\n",
        "\n",
        "print(model.state_dict())\n",
        "\n"
      ],
      "metadata": {
        "id": "4FKN3ujAwbxz",
        "colab": {
          "base_uri": "https://localhost:8080/"
        },
        "outputId": "c225feff-abea-46fb-dc5e-313d43d6bb64"
      },
      "execution_count": 23,
      "outputs": [
        {
          "output_type": "stream",
          "name": "stdout",
          "text": [
            "OrderedDict([('0.weight', tensor([[-0.4869]], device='cuda:0')), ('0.bias', tensor([0.5873], device='cuda:0'))])\n"
          ]
        }
      ]
    },
    {
      "cell_type": "code",
      "source": [
        "from torch.utils.data import Dataset,TensorDataset\n",
        "\n",
        "# loading as a tensor dataset by out custom function\n",
        "class CustomDataset(Dataset):\n",
        "  def __init__(self, x_tensor, y_tensor):\n",
        "    self.x = x_tensor\n",
        "    self.y = y_tensor\n",
        "\n",
        "  # getitem function is used to load data on demand (whenever __getitem__ is called)\n",
        "  def __getitem__(self, index):\n",
        "    return (self.x[index], self.y[index])\n",
        "\n",
        "  def __len__(self):\n",
        "    return len(self.x)\n",
        "\n",
        "\n",
        "x_train_tensor = torch.from_numpy(x_train).float()\n",
        "y_train_tensor = torch.from_numpy(y_train).float()\n",
        "\n",
        "train_data = CustomDataset(x_train_tensor, y_train_tensor)\n",
        "print(train_data[0])\n",
        "\n",
        "# this is by pytorch inbuilt class\n",
        "train_data = TensorDataset(x_train_tensor, y_train_tensor)\n",
        "print(train_data[0])"
      ],
      "metadata": {
        "colab": {
          "base_uri": "https://localhost:8080/"
        },
        "id": "GvjlOyIUxs0s",
        "outputId": "515bb7cb-4d7f-44ab-fcf6-0636c68667c3"
      },
      "execution_count": 38,
      "outputs": [
        {
          "output_type": "stream",
          "name": "stdout",
          "text": [
            "(tensor([0.7713]), tensor([2.4745]))\n",
            "(tensor([0.7713]), tensor([2.4745]))\n"
          ]
        }
      ]
    },
    {
      "cell_type": "code",
      "source": [
        "# Dataloader: this class use minibatches to load our dataset. We cannot use batch gradient if we have a very large dataset.\n",
        "from torch.utils.data import DataLoader\n",
        "\n",
        "train_loader = DataLoader(dataset = train_data, batch_size = 16, shuffle = True)\n"
      ],
      "metadata": {
        "id": "-wB8FhJU8O7H"
      },
      "execution_count": 39,
      "outputs": []
    },
    {
      "cell_type": "code",
      "source": [
        "lossee = []\n",
        "train_step = make_train_step(model, loss_fn, optimizer)\n",
        "\n",
        "for epoch in range(n_epochs):\n",
        "  for x_batch, y_batch in train_loader:\n",
        "  # the dataset \"lives\" in the CPU, so do our mini-batches. Therefore, we need to send those mini-batches to the device where the model \"lives\"\n",
        "    x_batch = x_batch.to(device)\n",
        "    y_batch = y_batch.to(device)\n",
        "\n",
        "    loss = train_step(x_batch, y_batch)\n",
        "    losses.append(loss)\n",
        "\n",
        "print(model.state_dict())"
      ],
      "metadata": {
        "colab": {
          "base_uri": "https://localhost:8080/"
        },
        "id": "Yt7tgjtN8vGu",
        "outputId": "00250054-5bf5-4c80-dee7-9642da78c9a2"
      },
      "execution_count": 44,
      "outputs": [
        {
          "output_type": "stream",
          "name": "stdout",
          "text": [
            "OrderedDict([('0.weight', tensor([[-0.4869]], device='cuda:0')), ('0.bias', tensor([0.5873], device='cuda:0'))])\n"
          ]
        }
      ]
    },
    {
      "cell_type": "code",
      "source": [
        "\n",
        "from torch.utils.data.dataset import random_split\n",
        "\n",
        "x_tensor = torch.from_numpy(x).float()\n",
        "y_tensor = torch.from_numpy(y).float()\n",
        "\n",
        "dataset = TensorDataset(x_tensor, y_tensor)\n",
        "train_dataset, val_dataset = random_split(dataset, [80,20])\n",
        "\n",
        "train_loader = DataLoader(dataset=train_dataset, batch_size = 16)\n",
        "val_loader = DataLoader(dataset = val_dataset, batch_size = 16)"
      ],
      "metadata": {
        "id": "qY-gAqtR8wSG"
      },
      "execution_count": 45,
      "outputs": []
    },
    {
      "cell_type": "code",
      "source": [
        "losses = []\n",
        "val_losses = []\n",
        "train_step = make_train_step(model, loss_fn, optimizer)\n",
        "\n",
        "for epoch in range(n_epochs):\n",
        "  for x_batch, y_batch in train_loader:\n",
        "    x_batch = x_batch.to(device)\n",
        "    y_batch = y_batch.to(device)\n",
        "    loss = train_step(x_batch, y_batch)\n",
        "    losses.append(loss)\n",
        "\n",
        "    with torch.no_grad():\n",
        "       for x_val, y_val in val_loader:\n",
        "            x_val = x_val.to(device)\n",
        "            y_val = y_val.to(device)\n",
        "\n",
        "            model.eval()\n",
        "            yhat = model(x_val)\n",
        "            val_loss = loss_fn(y_val, yhat)\n",
        "            val_losses.append(val_loss.item())\n",
        "\n",
        "print(model.state_dict())"
      ],
      "metadata": {
        "colab": {
          "base_uri": "https://localhost:8080/"
        },
        "id": "yjW2J3mx_rwO",
        "outputId": "7bd37c7b-f07a-4a40-c8af-bbbda0d92b91"
      },
      "execution_count": 46,
      "outputs": [
        {
          "output_type": "stream",
          "name": "stdout",
          "text": [
            "OrderedDict([('0.weight', tensor([[-0.4869]], device='cuda:0')), ('0.bias', tensor([0.5873], device='cuda:0'))])\n"
          ]
        }
      ]
    },
    {
      "cell_type": "code",
      "source": [],
      "metadata": {
        "id": "IkWeC6pQDhvF"
      },
      "execution_count": null,
      "outputs": []
    }
  ]
}